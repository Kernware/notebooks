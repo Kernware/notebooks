{
 "cells": [
  {
   "cell_type": "markdown",
   "metadata": {},
   "source": [
    "### Simple Conversion from an PDF to it's markdown representation.\n",
    "\n",
    "Extract the full text via PyMuPDF, convert the page to an image and give both to\n",
    "a Vision Model and recreate the PDF Structure in markdown format.\n",
    "\n",
    "Work's really well with a fine tuned model and text only PDF's."
   ]
  },
  {
   "cell_type": "code",
   "execution_count": null,
   "metadata": {},
   "outputs": [],
   "source": [
    "from pathlib import Path\n",
    "\n",
    "import fitz\n",
    "import os\n",
    "import ollama"
   ]
  },
  {
   "cell_type": "code",
   "execution_count": 21,
   "metadata": {},
   "outputs": [],
   "source": [
    "pages = fitz.open(\"<pathToPDF\")\n",
    "pages[0].get_pixmap().save(\"page.png\")\n",
    "full_text = pages[0].get_text()"
   ]
  },
  {
   "cell_type": "code",
   "execution_count": 43,
   "metadata": {},
   "outputs": [],
   "source": [
    "query = \"\"\"Extrahiere den vollständigen Text aus dem Bild und formatiere ihn in Markdown, indem du den mit PyMuPdf extrahierten Text als Referenz verwendest. Stelle sicher, dass die Markdown-Struktur korrekt wiedergegeben wird, mit besonderem Fokus auf Überschriften und Listen:\n",
    "\n",
    "- Gib den Text eins zu eins wieder, ohne Informationen zu verändern oder hinzuzufügen.\n",
    "- Verwende nur einfache `#`-Überschriften für fettgedruckte rote Texte, alles andere soll as normaler Text erscheinen.\n",
    "- Behalte alle Aufzählungen, nummerierten Listen und Unterlisten im Markdown-Format exakt bei.\n",
    "- Das Bild kann mit normalem Text beginnen und muss nicht mit einer Überschrift beginnen.\n",
    "\n",
    "**PyMuPdf Text:**\n",
    "```\n",
    "{full_text}\n",
    "```\"\"\".format(full_text=full_text)"
   ]
  },
  {
   "cell_type": "code",
   "execution_count": null,
   "metadata": {},
   "outputs": [],
   "source": [
    "response = ollama.chat(\n",
    "    model=\"llama3.2-vision:latest\",\n",
    "    stream=False,\n",
    "    messages=[\n",
    "        {\n",
    "            \"role\": \"user\",\n",
    "            \"content\": query,\n",
    "            \"images\": [Path(os.getcwd(), \"page.png\")],\n",
    "            \"format\": \"markdown\",\n",
    "        },\n",
    "    ],\n",
    ")\n",
    "print(response[\"message\"][\"content\"])"
   ]
  }
 ],
 "metadata": {
  "kernelspec": {
   "display_name": "wai",
   "language": "python",
   "name": "python3"
  },
  "language_info": {
   "codemirror_mode": {
    "name": "ipython",
    "version": 3
   },
   "file_extension": ".py",
   "mimetype": "text/x-python",
   "name": "python",
   "nbconvert_exporter": "python",
   "pygments_lexer": "ipython3",
   "version": "3.11.0"
  }
 },
 "nbformat": 4,
 "nbformat_minor": 2
}
