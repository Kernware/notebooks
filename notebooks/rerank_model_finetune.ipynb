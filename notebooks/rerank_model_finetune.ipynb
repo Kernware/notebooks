{
 "cells": [
  {
   "cell_type": "markdown",
   "metadata": {},
   "source": [
    "## Fintune `BAAI/bge-reranker-v2-m3` for better Results\n",
    "[TutorialLink](https://blog.gopenai.com/fine-tuning-re-ranking-models-a-beginners-guide-066b4b9c3ecf)"
   ]
  },
  {
   "cell_type": "code",
   "execution_count": null,
   "metadata": {},
   "outputs": [],
   "source": [
    "training_query = [] # ping me if you want to see it\n",
    "\n",
    "# Format\n",
    "# https://github.com/FlagOpen/FlagEmbedding/blob/master/examples/finetune/reranker/example_data/normal/examples.jsonl\n",
    "\"\"\"\n",
    "[{\n",
    "    \"query\": \"who creates the best car?\",\n",
    "    \"pos\": [\n",
    "        \"ferrari produced 50 cars a year\",\n",
    "        \"ford produced 200 cars a year\",\n",
    "    ],\n",
    "    \"neg\": [\n",
    "        \"can a horse still replace a car\",\n",
    "        \"why is my cat so slow?\",\n",
    "    ],\n",
    "    \"pos_scores\": [0.98, 0.89],\n",
    "    \"neg_scores\": [0.22, 0.1]\n",
    "}]\n",
    "\"\"\""
   ]
  },
  {
   "cell_type": "code",
   "execution_count": null,
   "metadata": {},
   "outputs": [],
   "source": [
    "from sentence_transformers import InputExample\n",
    "from torch.utils.data import DataLoader\n",
    "\n",
    "train_samples = []\n",
    "for tquery in training_query:\n",
    "\n",
    "    for i, pos_context in enumerate(tquery['pos']):\n",
    "        train_samples.append(\n",
    "            InputExample(\n",
    "                texts=[tquery['query'], tquery['pos'][i]],\n",
    "                label=tquery['pos_scores'][i]\n",
    "            )\n",
    "        )\n",
    "\n",
    "    for i, neg_context in enumerate(tquery['neg']):\n",
    "        train_samples.append(\n",
    "            InputExample(\n",
    "                texts=[tquery['query'], tquery['neg'][i]],\n",
    "                label=tquery['neg_scores'][i]\n",
    "            )\n",
    "        )\n",
    "\n",
    "train_dataloader = DataLoader(train_samples, shuffle=True, batch_size=8)"
   ]
  },
  {
   "cell_type": "code",
   "execution_count": null,
   "metadata": {},
   "outputs": [],
   "source": [
    "from sentence_transformers import CrossEncoder\n",
    "\n",
    "model = CrossEncoder(\n",
    "    model_name='BAAI/bge-reranker-v2-m3',\n",
    "    device='cuda'\n",
    ")"
   ]
  },
  {
   "cell_type": "code",
   "execution_count": null,
   "metadata": {},
   "outputs": [],
   "source": [
    "model.fit(\n",
    "    train_dataloader=train_dataloader,\n",
    "    epochs=5,\n",
    "    warmup_steps=100,\n",
    "    evaluation_steps=0,\n",
    "    output_path=\"finetuned_reranker\",\n",
    "    save_best_model=True,\n",
    "    use_amp=True,\n",
    "    scheduler= 'warmupcosine',\n",
    "    show_progress_bar=True,\n",
    ")\n",
    "\n",
    "model.save_pretrained(\"finetuned_reranker\")"
   ]
  },
  {
   "cell_type": "code",
   "execution_count": null,
   "metadata": {},
   "outputs": [],
   "source": [
    "# test newly finetuned reranker\n",
    "reranker = CrossEncoder('finetuned_reranker', local_files_only=True)\n",
    "\n",
    "query = \"\"\n",
    "docs = [\"\", \"\"]\n",
    "a = reranker.rank(query, docs)\n",
    "score = sorted(a, key=lambda x: x['score'], reverse=True)"
   ]
  },
  {
   "cell_type": "code",
   "execution_count": null,
   "metadata": {},
   "outputs": [],
   "source": [
    "# Just a little bit of finetuning on a specific domain returned instantly better results\n",
    "# than off the shelf rerankers.\n",
    "\n",
    "\"\"\"\n",
    "#    Model            Hits  P@10      Recall@100  MRR@100    DCG@100    NDCG@100\n",
    "---  -------------  ------  ------  ------------  ---------  ---------  ----------\n",
    "a    rr_base_large   9.167  0.658          0.784  0.806      6.168      0.758\n",
    "b    rr_base        10.333  0.733ᵍ         0.851  0.854ᵍ     6.848ᵍ     0.818ᵍ\n",
    "c    rr_base_ft     11.25   0.750ᵍ         0.901  0.854ᵍ     7.122ᶠᵍ    0.845ᶠᵍ\n",
    "d    rr_cohere      10.333  0.708ᵍ         0.846  0.794      6.563      0.775\n",
    "e    rr_mixed        9.25   0.575          0.78   0.784      5.832      0.707\n",
    "f    rr_marco       10.083  0.675          0.833  0.847ᵍ     6.565      0.781\n",
    "g    rr_marco_inst   8.417  0.425          0.734  0.382      4.192      0.529\n",
    "h    rr_inst        11.05   0.725          0.902  0.839      6.905      0.790\n",
    "\"\"\""
   ]
  }
 ],
 "metadata": {
  "kernelspec": {
   "display_name": "wai",
   "language": "python",
   "name": "python3"
  },
  "language_info": {
   "name": "python",
   "version": "3.10.12"
  }
 },
 "nbformat": 4,
 "nbformat_minor": 2
}
