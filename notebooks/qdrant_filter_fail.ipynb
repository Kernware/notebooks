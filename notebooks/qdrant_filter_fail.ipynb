{
 "cells": [
  {
   "cell_type": "code",
   "execution_count": 1,
   "metadata": {},
   "outputs": [],
   "source": [
    "from dotenv import load_dotenv\n",
    "load_dotenv()\n",
    "\n",
    "from openai import Client\n",
    "\n",
    "client = Client()  # OPENAI_API_KEY\n",
    "\n",
    "def embed(query: str):\n",
    "    result = client.embeddings.create(input=query, model=\"text-embedding-3-small\")\n",
    "    return result.data[0].embedding"
   ]
  },
  {
   "cell_type": "code",
   "execution_count": 2,
   "metadata": {},
   "outputs": [],
   "source": [
    "from qdrant_client import QdrantClient, models\n",
    "from qdrant_client.models import PointStruct, VectorParams, SparseVector, NamedVector\n",
    "\n",
    "qdrant_client = QdrantClient(url=\"http://localhost:6333\")\n",
    "collection_name = \"filter_testing\""
   ]
  },
  {
   "cell_type": "code",
   "execution_count": 10,
   "metadata": {},
   "outputs": [
    {
     "data": {
      "text/plain": [
       "True"
      ]
     },
     "execution_count": 10,
     "metadata": {},
     "output_type": "execute_result"
    }
   ],
   "source": [
    "qdrant_client.create_collection(\n",
    "    collection_name=collection_name,\n",
    "    vectors_config={\n",
    "        \"dense\": VectorParams(\n",
    "            size=1536, distance=models.Distance.DOT\n",
    "        )\n",
    "    },\n",
    ")"
   ]
  },
  {
   "cell_type": "code",
   "execution_count": 11,
   "metadata": {},
   "outputs": [],
   "source": [
    "data = [\n",
    "    \"something, with:a\",\n",
    "    \"something, with:b\",\n",
    "    \"something, with:c\",\n",
    "    \"something, with:d\",\n",
    "    \"something, with:e\",\n",
    "]\n",
    "\n",
    "points = [\n",
    "    PointStruct(\n",
    "        id=i,\n",
    "        vector={\n",
    "            \"dense\": embed(d),\n",
    "        },\n",
    "        payload={\n",
    "            \"text\": d\n",
    "        }\n",
    "    )\n",
    "    for i, d in enumerate(\n",
    "        data\n",
    "    )\n",
    "]"
   ]
  },
  {
   "cell_type": "code",
   "execution_count": 12,
   "metadata": {},
   "outputs": [ ],
   "source": [
    "qdrant_client.upsert(\n",
    "    collection_name=collection_name,\n",
    "    points=points,\n",
    ")"
   ]
  },
  {
   "cell_type": "code",
   "execution_count": null,
   "metadata": {},
   "outputs": [],
   "source": [
    "\n",
    "index_fields = [\n",
    "    (\"text\", models.PayloadSchemaType.TEXT),\n",
    "]\n",
    "for idx_field in index_fields:\n",
    "    qdrant_client.create_payload_index(\n",
    "        collection_name=collection_name,\n",
    "        field_name=idx_field[0],\n",
    "        field_schema=idx_field[1],\n",
    "    )"
   ]
  },
  {
   "cell_type": "code",
   "execution_count": 5,
   "metadata": {},
   "outputs": [],
   "source": [
    "dense_vector = embed(\"something with\")"
   ]
  },
  {
   "cell_type": "code",
   "execution_count": 13,
   "metadata": {},
   "outputs": [],
   "source": [
    "search_result = qdrant_client.query_points(\n",
    "    collection_name=collection_name,\n",
    "    prefetch=[\n",
    "        models.Prefetch(\n",
    "            query=dense_vector,\n",
    "            using=\"dense\",\n",
    "            limit=2,\n",
    "        ),\n",
    "    ],\n",
    "    query=models.FusionQuery(fusion=models.Fusion.RRF),\n",
    "    query_filter=models.Filter(\n",
    "        must=[\n",
    "            models.FieldCondition(key='text', match=models.MatchText(text=\"h:a\"))\n",
    "        ],\n",
    "    ),\n",
    ")\n",
    "\n",
    "for p in search_result.points:\n",
    "    print(f\"Result: {p.payload['text']}\")"
   ]
  }
 ],
 "metadata": {
  "kernelspec": {
   "display_name": "wai",
   "language": "python",
   "name": "python3"
  },
  "language_info": {
   "codemirror_mode": {
    "name": "ipython",
    "version": 3
   },
   "file_extension": ".py",
   "mimetype": "text/x-python",
   "name": "python",
   "nbconvert_exporter": "python",
   "pygments_lexer": "ipython3",
   "version": "3.10.12"
  }
 },
 "nbformat": 4,
 "nbformat_minor": 2
}
